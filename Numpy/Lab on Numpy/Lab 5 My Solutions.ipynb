{
 "cells": [
  {
   "cell_type": "code",
   "execution_count": 3,
   "metadata": {},
   "outputs": [],
   "source": [
    "import csv"
   ]
  },
  {
   "cell_type": "code",
   "execution_count": 5,
   "metadata": {},
   "outputs": [
    {
     "name": "stdout",
     "output_type": "stream",
     "text": [
      "Average is  12.736539622533027\n"
     ]
    }
   ],
   "source": [
    "fileObj = open(\"bikeSharing.csv\")\n",
    "sumWind = 0\n",
    "numOfRows = 0\n",
    "for line in fileObj:\n",
    "    lineContents = line.split(',')\n",
    "    sumWind += float(lineContents[12])\n",
    "    numOfRows += 1\n",
    "    \n",
    "print (\"Average is \", ((sumWind*67)/numOfRows))"
   ]
  },
  {
   "cell_type": "code",
   "execution_count": 1,
   "metadata": {},
   "outputs": [],
   "source": [
    "import numpy as np"
   ]
  },
  {
   "cell_type": "markdown",
   "metadata": {},
   "source": [
    "with open('bikeSharing.csv') as a_file:\n",
    "    data = csv.reader(a_file)\n",
    "    arr = np.array[data]\n",
    "    for i in data:\n",
    "        print(i[15])\n",
    "        if i == 12:\n",
    "            break"
   ]
  },
  {
   "cell_type": "code",
   "execution_count": 4,
   "metadata": {},
   "outputs": [
    {
     "name": "stdout",
     "output_type": "stream",
     "text": [
      "[16 40 32 ... 90 61 49]\n"
     ]
    }
   ],
   "source": [
    "with open('bikeSharing.csv') as a_file:\n",
    "    data = csv.reader(a_file)\n",
    "    list = [i[15] for i in data] # list comprehension\n",
    "    arr = np.array(list, int)\n",
    "    \n",
    "print(arr)"
   ]
  },
  {
   "cell_type": "code",
   "execution_count": 29,
   "metadata": {},
   "outputs": [
    {
     "name": "stdout",
     "output_type": "stream",
     "text": [
      "(1, 1, 0, 1, 0, 0, 6, 0, 1, 0.24, 0.2879, 0.81, 0., 3, 13, 16)\n"
     ]
    }
   ],
   "source": [
    "my_data = np.genfromtxt('bikeSharing.csv', delimiter=',', dtype=None)\n",
    "print(my_data[0])"
   ]
  },
  {
   "cell_type": "markdown",
   "metadata": {},
   "source": [
    "## Question 1 (i) \n",
    "> Average total users on days that are holidays VS Average total users on days that are not\n"
   ]
  },
  {
   "cell_type": "code",
   "execution_count": 10,
   "metadata": {
    "scrolled": true
   },
   "outputs": [
    {
     "name": "stdout",
     "output_type": "stream",
     "text": [
      "Holiday value: 0\n",
      "Mean number of users: 190.4285798921737\n",
      "Holiday value: 1\n",
      "Mean number of users: 156.87\n"
     ]
    }
   ],
   "source": [
    "data  = np.genfromtxt(\"bikeSharing.csv\", delimiter = ',', dtype=float)\n",
    "# Number of users is on column 15\n",
    "# Column Number 5 for holidays\n",
    "users = np.copy(data[:,15])\n",
    "holidayData = users[data[:, 5] == 0]\n",
    "noHolidayData = users[data[:, 5] == 1]\n",
    "avgHoliday = np.mean(holidayData)\n",
    "avgNotHoliday = np.mean(noHolidayData)\n",
    "print('Holiday value: 0\\nMean number of users: {}'.format(avgHoliday))\n",
    "print('Holiday value: 1\\nMean number of users: {}'.format(avgNotHoliday))\n"
   ]
  },
  {
   "cell_type": "markdown",
   "metadata": {},
   "source": [
    "## Question 1 (ii)"
   ]
  },
  {
   "cell_type": "code",
   "execution_count": 8,
   "metadata": {},
   "outputs": [
    {
     "data": {
      "text/plain": [
       "array([ 9.84,  9.02,  9.02, ..., 10.66, 10.66, 10.66])"
      ]
     },
     "execution_count": 8,
     "metadata": {},
     "output_type": "execute_result"
    }
   ],
   "source": [
    "tempArray = np.copy(data[:, 9])\n",
    "realTempArray = tempArray*41\n",
    "realTempArray"
   ]
  },
  {
   "cell_type": "markdown",
   "metadata": {},
   "source": [
    "# Question 1 (iii)"
   ]
  },
  {
   "cell_type": "code",
   "execution_count": 13,
   "metadata": {},
   "outputs": [
    {
     "data": {
      "text/plain": [
       "1.628402094481846"
      ]
     },
     "execution_count": 13,
     "metadata": {},
     "output_type": "execute_result"
    }
   ],
   "source": [
    "casualUsers = np.copy(data[:, 13])\n",
    "boolArray = casualUsers > data[:, 14]\n",
    "percentage = (len(casualUsers[boolArray])/len(casualUsers))*100\n",
    "perc"
   ]
  },
  {
   "cell_type": "markdown",
   "metadata": {},
   "source": [
    "## Question 1 (iv)\n",
    "For each of the\n",
    "4 possible weather conditions calculate the average number of rental bikes."
   ]
  },
  {
   "cell_type": "code",
   "execution_count": 27,
   "metadata": {},
   "outputs": [
    {
     "name": "stdout",
     "output_type": "stream",
     "text": [
      "Mean users for weather = Clear : 204.8692718829405\n",
      "Mean users for weather = Misty : 175.16549295774647\n",
      "Mean users for weather = Light Rain : 111.57928118393235\n",
      "Mean users for weather = Heavy Rain : 74.33333333333333\n"
     ]
    }
   ],
   "source": [
    "# Weather conditions column 8\n",
    "# Number of rental bikes column 15\n",
    "weatherDict = {1: 'Clear', 2: 'Misty', 3: 'Light Rain', 4: 'Heavy Rain'}\n",
    "rentalBikes = np.copy(data[:,15]) \n",
    "'''\n",
    "clear = np.mean(rentalBikes[data[:, 8] == weatherDict['Clear']])\n",
    "misty = np.mean(rentalBikes[data[:, 8] == weatherDict['Misty']])\n",
    "lightRain = np.mean(rentalBikes[data[:, 8] == weatherDict['Light Rain']])\n",
    "heavyRain = np.mean(rentalBikes[data[:, 8] == weatherDict['Heavy Rain']])\n",
    "print('Mean users for weather = Clear : {}'.format(clear))\n",
    "print('Mean users for weather = Misty : {}'.format(misty))\n",
    "print('Mean users for weather = Light Rain : {}'.format(lightRain))\n",
    "print('Mean users for weather = Heavy Rain : {}'.format(heavyRain))\n",
    "'''\n",
    "for key in weatherDict:\n",
    "    avg = np.mean(rentalBikes[data[:, 8] == key])\n",
    "    print('Mean users for weather = {} : {}'.format(weatherDict[key], avg))"
   ]
  },
  {
   "cell_type": "markdown",
   "metadata": {},
   "source": [
    "## Question 1 (v)\n",
    "Work out the average number of casual users for the following\n",
    "temperature ranges:\n",
    "1, 5\n",
    "6, 10\n",
    "11, 15\n",
    "16, 20\n",
    "21, 25\n",
    "26, 30\n",
    "31, 35\n",
    "36, 40"
   ]
  },
  {
   "cell_type": "code",
   "execution_count": 29,
   "metadata": {},
   "outputs": [
    {
     "name": "stdout",
     "output_type": "stream",
     "text": [
      "For temp in range  1 to 5 the mean number of casual users was  49.29545454545455\n",
      "For temp in range  6 to 10 the mean number of casual users was  73.66706302021403\n",
      "For temp in range  11 to 15 the mean number of casual users was  130.68177065179506\n",
      "For temp in range  16 to 20 the mean number of casual users was  169.06677265500795\n",
      "For temp in range  21 to 25 the mean number of casual users was  211.70007451564828\n",
      "For temp in range  26 to 30 the mean number of casual users was  242.17267869071478\n",
      "For temp in range  31 to 35 the mean number of casual users was  337.4730056406124\n",
      "For temp in range  36 to 40 the mean number of casual users was  314.99111111111114\n"
     ]
    }
   ],
   "source": [
    "# Casual users column 13 \n",
    "# Temp column is 9\n",
    "def analyseTemp(data, minValue, maxValue):\n",
    "    # the temperature values stored in the array are multiplied by 41 \n",
    "    \n",
    "    higherTempCondition = (data[:,9]*41)>=minValue  # Getting a boolean array of values more than 1  \n",
    "    lowerTempCondition = (data[:,9]*41)<=maxValue  # But also getting boolean array of values less than 5\n",
    "    \n",
    "    subset = data[higherTempCondition & lowerTempCondition] # Getting all the data that are between the min and max\n",
    "\n",
    "    meanValue = np.mean(subset[:, 15]) # Getting the mean of users using the data we got previously\n",
    "    print (\"For temp in range \", minValue, \"to\", maxValue, \"the mean number of casual users was \", meanValue)\n",
    "\n",
    "for temp in range(1, 40, 5):\n",
    "    analyseTemp(data, temp, temp+4)\n"
   ]
  }
 ],
 "metadata": {
  "kernelspec": {
   "display_name": "Python 3",
   "language": "python",
   "name": "python3"
  },
  "language_info": {
   "codemirror_mode": {
    "name": "ipython",
    "version": 3
   },
   "file_extension": ".py",
   "mimetype": "text/x-python",
   "name": "python",
   "nbconvert_exporter": "python",
   "pygments_lexer": "ipython3",
   "version": "3.7.4"
  }
 },
 "nbformat": 4,
 "nbformat_minor": 2
}
